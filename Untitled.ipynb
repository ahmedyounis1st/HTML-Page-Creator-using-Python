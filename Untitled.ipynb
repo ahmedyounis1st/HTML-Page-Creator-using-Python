{
 "cells": [
  {
   "cell_type": "code",
   "execution_count": 41,
   "id": "76812e76",
   "metadata": {},
   "outputs": [
    {
     "data": {
      "text/plain": [
       "array([[nan, nan, nan, nan],\n",
       "       [nan, nan, nan, nan],\n",
       "       [nan, nan, nan, nan],\n",
       "       [nan, nan, nan, nan],\n",
       "       [nan, nan, nan, nan],\n",
       "       [nan, nan, nan, nan],\n",
       "       [nan, nan, nan, nan]])"
      ]
     },
     "execution_count": 41,
     "metadata": {},
     "output_type": "execute_result"
    }
   ],
   "source": [
    "import pandas as pd\n",
    "import numpy as np\n",
    "\n",
    "table = np.full((7, 4),np.nan)\n",
    "table"
   ]
  },
  {
   "cell_type": "code",
   "execution_count": 42,
   "id": "88e0053e",
   "metadata": {},
   "outputs": [
    {
     "ename": "ValueError",
     "evalue": "could not convert string to float: 'select'",
     "output_type": "error",
     "traceback": [
      "\u001b[1;31m---------------------------------------------------------------------------\u001b[0m",
      "\u001b[1;31mValueError\u001b[0m                                Traceback (most recent call last)",
      "\u001b[1;32m<ipython-input-42-a58df32804b6>\u001b[0m in \u001b[0;36m<module>\u001b[1;34m\u001b[0m\n\u001b[0;32m      1\u001b[0m \u001b[0mr\u001b[0m \u001b[1;33m=\u001b[0m \u001b[1;36m1\u001b[0m\u001b[1;33m;\u001b[0m \u001b[0mc\u001b[0m \u001b[1;33m=\u001b[0m \u001b[1;36m0\u001b[0m\u001b[1;33m\u001b[0m\u001b[1;33m\u001b[0m\u001b[0m\n\u001b[1;32m----> 2\u001b[1;33m \u001b[0mtable\u001b[0m\u001b[1;33m[\u001b[0m\u001b[0mr\u001b[0m\u001b[1;33m,\u001b[0m \u001b[0mc\u001b[0m\u001b[1;33m:\u001b[0m\u001b[0mc\u001b[0m\u001b[1;33m+\u001b[0m\u001b[1;36m3\u001b[0m\u001b[1;33m]\u001b[0m \u001b[1;33m=\u001b[0m \u001b[1;34m\"select\"\u001b[0m\u001b[1;33m\u001b[0m\u001b[1;33m\u001b[0m\u001b[0m\n\u001b[0m\u001b[0;32m      3\u001b[0m \u001b[0mr\u001b[0m \u001b[1;33m=\u001b[0m \u001b[1;36m1\u001b[0m\u001b[1;33m;\u001b[0m \u001b[0mc\u001b[0m \u001b[1;33m=\u001b[0m \u001b[1;36m3\u001b[0m\u001b[1;33m\u001b[0m\u001b[1;33m\u001b[0m\u001b[0m\n\u001b[0;32m      4\u001b[0m \u001b[0mtable\u001b[0m\u001b[1;33m[\u001b[0m\u001b[0mr\u001b[0m\u001b[1;33m,\u001b[0m \u001b[0mc\u001b[0m\u001b[1;33m]\u001b[0m \u001b[1;33m=\u001b[0m \u001b[1;34m\"checkbox\"\u001b[0m\u001b[1;33m\u001b[0m\u001b[1;33m\u001b[0m\u001b[0m\n\u001b[0;32m      5\u001b[0m \u001b[0mr\u001b[0m \u001b[1;33m=\u001b[0m \u001b[1;36m2\u001b[0m\u001b[1;33m;\u001b[0m \u001b[0mc\u001b[0m \u001b[1;33m=\u001b[0m \u001b[1;36m0\u001b[0m\u001b[1;33m\u001b[0m\u001b[1;33m\u001b[0m\u001b[0m\n",
      "\u001b[1;31mValueError\u001b[0m: could not convert string to float: 'select'"
     ]
    }
   ],
   "source": [
    "r = 1; c = 0\n",
    "table[r, c:c+3] = \"select\"\n",
    "r = 1; c = 3\n",
    "table[r, c] = \"checkbox\"\n",
    "r = 2; c = 0\n",
    "table[r:r+2, c:c+2] = \"ceheckbox\"\n",
    "r = 2; c = 2\n",
    "table[r, c] = \"Date\"\n",
    "r = 2; c = 3\n",
    "table[r, c] = \"TextBox\"\n",
    "r = 3; c = 2\n",
    "table[r, c:c+2] = \"TextArea\"\n",
    "r = 4\n",
    "c = 0\n",
    "table[r, c] = \"Radio\"\n",
    "c = 1\n",
    "table[r, c] = \"Radio\"\n",
    "for c in range(2, 4):\n",
    "    table[r, c] = \"Radio\"\n",
    "table[5, 1:3] = 'this is a very long string ..... what the hack .....'\n",
    "table[5, 0] = ''\n",
    "r = 6\n",
    "c = 0\n",
    "table[r, c] = \"Button\"\n"
   ]
  },
  {
   "cell_type": "code",
   "execution_count": 36,
   "id": "21738c93",
   "metadata": {},
   "outputs": [
    {
     "name": "stdout",
     "output_type": "stream",
     "text": [
      "        A       B       C       D\n",
      "0  number  number  number  number\n",
      "1  select  select  select  checkb\n",
      "2  ceheck  ceheck    Date  TextBo\n",
      "3  ceheck  ceheck  TextAr  TextAr\n",
      "4   Radio   Radio   Radio   Radio\n"
     ]
    }
   ],
   "source": [
    "df = pd.DataFrame(table, columns=['A', 'B', 'C', 'D'])\n",
    "\n",
    "print(df.head())"
   ]
  },
  {
   "cell_type": "code",
   "execution_count": 37,
   "id": "28747689",
   "metadata": {},
   "outputs": [],
   "source": [
    "df.set_index(['A', 'B', 'C', 'D'], inplace=True)"
   ]
  },
  {
   "cell_type": "code",
   "execution_count": 40,
   "id": "354699fd",
   "metadata": {},
   "outputs": [
    {
     "name": "stdout",
     "output_type": "stream",
     "text": [
      "Empty DataFrame\n",
      "Columns: []\n",
      "Index: [(number, number, number, number), (select, select, select, checkb), (ceheck, ceheck, Date, TextBo), (ceheck, ceheck, TextAr, TextAr), (Radio, Radio, Radio, Radio), (, this i, this i, number), (Button, number, number, number)]\n"
     ]
    }
   ],
   "source": [
    "print(df)"
   ]
  },
  {
   "cell_type": "code",
   "execution_count": 39,
   "id": "ddffdb6a",
   "metadata": {},
   "outputs": [],
   "source": [
    "df.to_html(\"output.html\")"
   ]
  },
  {
   "cell_type": "code",
   "execution_count": null,
   "id": "d3f1e143",
   "metadata": {},
   "outputs": [],
   "source": []
  }
 ],
 "metadata": {
  "kernelspec": {
   "display_name": "Python 3",
   "language": "python",
   "name": "python3"
  },
  "language_info": {
   "codemirror_mode": {
    "name": "ipython",
    "version": 3
   },
   "file_extension": ".py",
   "mimetype": "text/x-python",
   "name": "python",
   "nbconvert_exporter": "python",
   "pygments_lexer": "ipython3",
   "version": "3.8.5"
  }
 },
 "nbformat": 4,
 "nbformat_minor": 5
}
